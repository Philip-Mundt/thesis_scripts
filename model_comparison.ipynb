{
 "cells": [
  {
   "cell_type": "code",
   "execution_count": 1,
   "metadata": {},
   "outputs": [],
   "source": [
    "import cobra\n",
    "import scipy\n",
    "import os\n",
    "from pathlib import Path"
   ]
  },
  {
   "cell_type": "code",
   "execution_count": 2,
   "metadata": {},
   "outputs": [],
   "source": [
    "# load human GEM\n",
    "ihuman = cobra.io.load_matlab_model(\"./models/Human-GEM.mat\")"
   ]
  },
  {
   "cell_type": "code",
   "execution_count": 3,
   "metadata": {},
   "outputs": [],
   "source": [
    "# load model generated using example data from ftINIT paper\n",
    "test = cobra.io.load_matlab_model(\"./models/test_model.mat\")"
   ]
  },
  {
   "cell_type": "code",
   "execution_count": 4,
   "metadata": {},
   "outputs": [],
   "source": [
    "# load tissue specific model\n",
    "skcm = cobra.io.load_matlab_model(\"./models/SKCM_model.mat\")"
   ]
  },
  {
   "cell_type": "code",
   "execution_count": 10,
   "metadata": {},
   "outputs": [
    {
     "name": "stdout",
     "output_type": "stream",
     "text": [
      "iHuman:\n",
      "Genes: 2889\n",
      "Reactions: 12995\n",
      "Groups: 148\n",
      "Growth: <Solution 124.868 at 0x27df4f57440>\n",
      "\n",
      "gtex-Model:\n",
      "Genes: 2415\n",
      "Reactions: 8266\n",
      "Groups: 136\n",
      "Growth: <Solution 124.722 at 0x27df4f57980>\n",
      "\n",
      "SKCM:\n",
      "Genes: 2415\n",
      "Reactions: 8340\n",
      "Groups: 138\n",
      "Growth: <Solution 124.804 at 0x27df4f54560>\n"
     ]
    }
   ],
   "source": [
    "print(\"iHuman:\")\n",
    "print(f\"Genes: {len(ihuman.genes)}\")\n",
    "print(f\"Reactions: {len(ihuman.reactions)}\")\n",
    "print(f\"Groups: {len(ihuman.groups)}\")\n",
    "print(f\"Growth: {ihuman.optimize()}\")\n",
    "print()\n",
    "print(\"gtex-Model:\")\n",
    "print(f\"Genes: {len(test.genes)}\")\n",
    "print(f\"Reactions: {len(test.reactions)}\")\n",
    "print(f\"Groups: {len(test.groups)}\")\n",
    "print(f\"Growth: {test.optimize()}\")\n",
    "print()\n",
    "print(\"SKCM:\")\n",
    "print(f\"Genes: {len(skcm.genes)}\")\n",
    "print(f\"Reactions: {len(skcm.reactions)}\")\n",
    "print(f\"Groups: {len(skcm.groups)}\")\n",
    "print(f\"Growth: {skcm.optimize()}\")"
   ]
  },
  {
   "cell_type": "code",
   "execution_count": 15,
   "metadata": {},
   "outputs": [
    {
     "name": "stdout",
     "output_type": "stream",
     "text": [
      "\tArachidonic acid metabolism\n",
      "Alkaloids biosynthesis\n",
      "Fatty acid degradation\n",
      "Hippurate metabolism\n",
      "Insect hormone biosynthesis\n",
      "Peptide metabolism\n",
      "Toluene degradation\n",
      "Triacylglycerol synthesis\n",
      "Ubiquinone and other terpenoid-quinone biosynthesis\n",
      "octane oxidation\n"
     ]
    }
   ],
   "source": [
    "deleted_groups = []\n",
    "for group in ihuman.groups:\n",
    "    if group not in skcm.groups:\n",
    "        deleted_groups.append(group.name)\n",
    "        print(group.name)"
   ]
  }
 ],
 "metadata": {
  "kernelspec": {
   "display_name": "MyEnvironment",
   "language": "python",
   "name": "python3"
  },
  "language_info": {
   "codemirror_mode": {
    "name": "ipython",
    "version": 3
   },
   "file_extension": ".py",
   "mimetype": "text/x-python",
   "name": "python",
   "nbconvert_exporter": "python",
   "pygments_lexer": "ipython3",
   "version": "3.12.3"
  }
 },
 "nbformat": 4,
 "nbformat_minor": 2
}
