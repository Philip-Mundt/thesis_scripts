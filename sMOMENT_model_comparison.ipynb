{
 "cells": [
  {
   "cell_type": "code",
   "execution_count": 6,
   "metadata": {},
   "outputs": [],
   "source": [
    "from cobra.io import read_sbml_model\n",
    "from cobra.flux_analysis import flux_variability_analysis"
   ]
  },
  {
   "cell_type": "code",
   "execution_count": 10,
   "metadata": {},
   "outputs": [],
   "source": [
    "# load standard iJO1366star model\n",
    "iJO_original = read_sbml_model(\"models/iJO1366.xml\")\n",
    "# load literature sMOMENTed iJO1366star model\n",
    "iJO_lit1 = read_sbml_model(\"models/iJO1366_sMOMENT_2019_06_25.xml\")\n",
    "# # load literature sMOMENTed iJO1366star model\n",
    "# iJO_lit = read_sbml_model(\"models/iJO1366_sMOMENT_2019_06_25_STANDARD_EXCHANGE_SCENARIO.xml\")\n",
    "# # load own sMOMENTed iJO1366star model\n",
    "# iJO_own = read_sbml_model(\"models/iJO1366_my_test.xml\")"
   ]
  },
  {
   "cell_type": "code",
   "execution_count": 12,
   "metadata": {},
   "outputs": [
    {
     "name": "stdout",
     "output_type": "stream",
     "text": [
      "Maximize\n",
      "1.0*BIOMASS_Ec_iJO1366_core_53p95M - 1.0*BIOMASS_Ec_iJO1366_core_53p95M_reverse_5c8b1\n"
     ]
    }
   ],
   "source": [
    "print(iJO_original.objective)"
   ]
  },
  {
   "cell_type": "code",
   "execution_count": 11,
   "metadata": {},
   "outputs": [
    {
     "name": "stdout",
     "output_type": "stream",
     "text": [
      "unconstrained Model:               minimum    maximum\n",
      "DM_4crsol_c  0.000197   0.000219\n",
      "DM_5drib_c   0.000199   0.223951\n",
      "DM_aacald_c  0.000000   0.000000\n",
      "DM_amob_c    0.000002   0.000002\n",
      "DM_mththf_c  0.000396   1.030179\n",
      "...               ...        ...\n",
      "ZN2abcpp     0.000000  23.685000\n",
      "ZN2t3pp      0.000000  94.740000\n",
      "ZN2tpp       0.000000  94.740301\n",
      "ZNabcpp      0.000000  18.948060\n",
      "Zn2tex       0.000301   0.000335\n",
      "\n",
      "[2583 rows x 2 columns]\n",
      "constrained Model:                     minimum     maximum\n",
      "DM_4crsol_c        0.000197    0.000219\n",
      "DM_5drib_c         0.000197    0.101515\n",
      "DM_aacald_c        0.000000    0.000000\n",
      "DM_amob_c          0.000000    0.000002\n",
      "DM_mththf_c        0.000394    0.447834\n",
      "...                     ...         ...\n",
      "XYLtex_TG_forward  0.000000  418.003560\n",
      "XYLtex_TG_reverse  0.000000  418.003560\n",
      "Zn2tex_TG_forward  0.000301  418.003862\n",
      "Zn2tex_TG_reverse  0.000000  418.003560\n",
      "ER_pool_TG_        0.075684    0.095000\n",
      "\n",
      "[3178 rows x 2 columns]\n"
     ]
    }
   ],
   "source": [
    "print(f\"unconstrained Model: {flux_variability_analysis(iJO_original, fraction_of_optimum=0.9)}\")\n",
    "print(f\"constrained Model: {flux_variability_analysis(iJO_lit1, fraction_of_optimum=0.9)}\")\n",
    "# print(f\"constrained Model (Literature): {flux_variability_analysis(iJO_lit, fraction_of_optimum=0.9)}\")\n",
    "# print(f\"constrained Model (own): {flux_variability_analysis(iJO_own, fraction_of_optimum=0.9)}\")"
   ]
  }
 ],
 "metadata": {
  "kernelspec": {
   "display_name": "context_GEM",
   "language": "python",
   "name": "python3"
  },
  "language_info": {
   "codemirror_mode": {
    "name": "ipython",
    "version": 3
   },
   "file_extension": ".py",
   "mimetype": "text/x-python",
   "name": "python",
   "nbconvert_exporter": "python",
   "pygments_lexer": "ipython3",
   "version": "3.12.3"
  }
 },
 "nbformat": 4,
 "nbformat_minor": 2
}
