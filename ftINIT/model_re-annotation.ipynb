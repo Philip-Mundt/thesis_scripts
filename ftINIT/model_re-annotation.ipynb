{
 "cells": [
  {
   "cell_type": "code",
   "execution_count": 1,
   "metadata": {},
   "outputs": [],
   "source": [
    "# general imports\n",
    "import pathlib\n",
    "import os\n",
    "import cobra\n",
    "import tqdm"
   ]
  },
  {
   "cell_type": "code",
   "execution_count": 2,
   "metadata": {},
   "outputs": [],
   "source": [
    "current_dir = pathlib.Path(os.getcwd())\n",
    "model_dir = current_dir.parent / \"models\""
   ]
  },
  {
   "cell_type": "code",
   "execution_count": 3,
   "metadata": {},
   "outputs": [],
   "source": [
    "# load Human-GEM annotations\n",
    "rxn_annotations = {}\n",
    "gene_annotations = {}\n",
    "with cobra.io.read_sbml_model(model_dir / \"Human-GEM.xml\") as ihuman:\n",
    "    for rxn in ihuman.reactions:\n",
    "        rxn_annotations[rxn.id] = ihuman.reactions.get_by_id(rxn.id).annotation\n",
    "    for gene in ihuman.genes:\n",
    "        gene_annotations[gene.id] = ihuman.genes.get_by_id(gene.id).annotation"
   ]
  },
  {
   "cell_type": "code",
   "execution_count": 5,
   "metadata": {},
   "outputs": [
    {
     "name": "stdout",
     "output_type": "stream",
     "text": [
      "Currently re-annotating : skin_no_sun_ftINIT_1+1_model.mat\n",
      "Created model: skin_no_sun_ftINIT_1+1_model.xml\n",
      "Currently re-annotating : skin_no_sun_ftINIT_model.mat\n",
      "Created model: skin_no_sun_ftINIT_model.xml\n",
      "Currently re-annotating : skin_sun_ftINIT_1+1_model.mat\n"
     ]
    },
    {
     "ename": "",
     "evalue": "",
     "output_type": "error",
     "traceback": [
      "\u001b[1;31mThe Kernel crashed while executing code in the current cell or a previous cell. \n",
      "\u001b[1;31mPlease review the code in the cell(s) to identify a possible cause of the failure. \n",
      "\u001b[1;31mClick <a href='https://aka.ms/vscodeJupyterKernelCrash'>here</a> for more info. \n",
      "\u001b[1;31mView Jupyter <a href='command:jupyter.viewOutput'>log</a> for further details."
     ]
    }
   ],
   "source": [
    "# iterate over files in the modles folder and check for files that have not been translated to xml yet\n",
    "for model_file in model_dir.iterdir():\n",
    "    if model_file.name.endswith(\".mat\"):\n",
    "        xml_name = model_file.name.replace(\".mat\", \".xml\")\n",
    "        if not (model_dir / xml_name).is_file():\n",
    "            print(f\"Currently re-annotating: {model_file.name}\")\n",
    "            print(\"*loading model*\")\n",
    "            with cobra.io.load_matlab_model(model_file) as model:\n",
    "                # iterating over reactions in the model and assigning the respective annotations lost in ftINIT\n",
    "                print(\"*updating reaction annotations*\")\n",
    "                for reaction in tqdm(model.reactions):\n",
    "                    model.reactions.get_by_id(reaction.id).annotation.update(rxn_annotations(reaction.id))\n",
    "                print(\"*updating gene annotations*\")\n",
    "                for gene in tqdm(model.genes):\n",
    "                    model.genes.get_by_id(gene.id).annotation.update(gene_annotations(reaction.id))\n",
    "                print(\"*saving model*\")\n",
    "                cobra.io.write_sbml_model(model, model_dir / xml_name)\n",
    "            print(f\"Created model: {xml_name}\\n\")"
   ]
  }
 ],
 "metadata": {
  "kernelspec": {
   "display_name": "context_GEM",
   "language": "python",
   "name": "python3"
  },
  "language_info": {
   "codemirror_mode": {
    "name": "ipython",
    "version": 3
   },
   "file_extension": ".py",
   "mimetype": "text/x-python",
   "name": "python",
   "nbconvert_exporter": "python",
   "pygments_lexer": "ipython3",
   "version": "3.12.3"
  }
 },
 "nbformat": 4,
 "nbformat_minor": 2
}
