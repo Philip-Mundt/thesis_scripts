{
 "cells": [
  {
   "cell_type": "code",
   "execution_count": 1,
   "metadata": {},
   "outputs": [],
   "source": [
    "# general imports\n",
    "import pathlib\n",
    "import os\n",
    "import cobra\n",
    "from tqdm import tqdm"
   ]
  },
  {
   "cell_type": "code",
   "execution_count": 2,
   "metadata": {},
   "outputs": [],
   "source": [
    "# ****************************************************************************************************\n",
    "# Step 5:   Adding gene & reaction annotations back to ftINIT models\n",
    "# ****************************************************************************************************\n",
    "\n",
    "# inputs\n",
    "\n",
    "# path to directory containing output ftINIT models (step 4) in MATLAB format\n",
    "model_dir = pathlib.Path(os.getcwd()).parent / \"models\"\n",
    "\n",
    "# path to Human1 model in SBML format\n",
    "human1_path = model_dir / \"Human-GEM.xml\""
   ]
  },
  {
   "cell_type": "code",
   "execution_count": 3,
   "metadata": {},
   "outputs": [],
   "source": [
    "# ****************************************************************************************************\n",
    "# start of the main part of the script\n",
    "\n",
    "# load Human-GEM annotations\n",
    "rxn_annotations = {}\n",
    "gene_annotations = {}\n",
    "with cobra.io.read_sbml_model(human1_path) as ihuman:\n",
    "    for rxn in ihuman.reactions:\n",
    "        rxn_annotations[rxn.id] = ihuman.reactions.get_by_id(rxn.id).annotation\n",
    "    for gene in ihuman.genes:\n",
    "        gene_annotations[gene.id] = ihuman.genes.get_by_id(gene.id).annotation"
   ]
  },
  {
   "cell_type": "code",
   "execution_count": 4,
   "metadata": {},
   "outputs": [
    {
     "name": "stdout",
     "output_type": "stream",
     "text": [
      "Currently re-annotating: melanocyte_1+0_thrd_model.mat\n",
      "*loading model*\n",
      "*updating reaction annotations*\n"
     ]
    },
    {
     "name": "stderr",
     "output_type": "stream",
     "text": [
      "100%|██████████| 8576/8576 [00:00<00:00, 425709.82it/s]\n"
     ]
    },
    {
     "name": "stdout",
     "output_type": "stream",
     "text": [
      "*updating gene annotations*\n"
     ]
    },
    {
     "name": "stderr",
     "output_type": "stream",
     "text": [
      "100%|██████████| 2413/2413 [00:00<00:00, 238992.53it/s]"
     ]
    },
    {
     "name": "stdout",
     "output_type": "stream",
     "text": [
      "*saving model*\n"
     ]
    },
    {
     "name": "stderr",
     "output_type": "stream",
     "text": [
      "\n"
     ]
    },
    {
     "name": "stdout",
     "output_type": "stream",
     "text": [
      "Created model: melanocyte_1+0_thrd_model.xml\n",
      "\n",
      "Currently re-annotating: melanocyte_1+1_thrd_model.mat\n",
      "*loading model*\n",
      "*updating reaction annotations*\n"
     ]
    },
    {
     "name": "stderr",
     "output_type": "stream",
     "text": [
      "100%|██████████| 8008/8008 [00:00<00:00, 1204647.67it/s]\n"
     ]
    },
    {
     "name": "stdout",
     "output_type": "stream",
     "text": [
      "*updating gene annotations*\n"
     ]
    },
    {
     "name": "stderr",
     "output_type": "stream",
     "text": [
      "100%|██████████| 2413/2413 [00:00<00:00, 343394.14it/s]"
     ]
    },
    {
     "name": "stdout",
     "output_type": "stream",
     "text": [
      "*saving model*\n"
     ]
    },
    {
     "name": "stderr",
     "output_type": "stream",
     "text": [
      "\n"
     ]
    },
    {
     "name": "stdout",
     "output_type": "stream",
     "text": [
      "Created model: melanocyte_1+1_thrd_model.xml\n",
      "\n",
      "All models in the folder c:\\Users\\phili\\OneDrive - uni-bielefeld.de\\Uni\\SoSe24\\BA\\thesis_scripts\\models are annotated.\n"
     ]
    }
   ],
   "source": [
    "# iterate over files in the models folder and check for files that have not been translated to xml yet\n",
    "for model_file in model_dir.iterdir():\n",
    "    if model_file.name.endswith(\".mat\"):\n",
    "        xml_name = model_file.name.replace(\".mat\", \".xml\")\n",
    "        if not (model_dir / xml_name).is_file():\n",
    "            print(f\"Currently re-annotating: {model_file.name}\")\n",
    "            print(\"*loading model*\")\n",
    "            with cobra.io.load_matlab_model(model_file) as model:\n",
    "                # iterating over reactions in the model and assigning the respective gene & reaction annotations lost in ftINIT\n",
    "                print(\"*updating reaction annotations*\")\n",
    "                for reaction in tqdm(model.reactions):\n",
    "                    model.reactions.get_by_id(reaction.id).annotation.update(rxn_annotations[reaction.id])\n",
    "                print(\"*updating gene annotations*\")\n",
    "                for gene in tqdm(model.genes):\n",
    "                    model.genes.get_by_id(gene.id).annotation.update(gene_annotations[gene.id])\n",
    "                print(\"*saving model*\")\n",
    "                cobra.io.write_sbml_model(model, model_dir / xml_name)\n",
    "            print(f\"Created model: {xml_name}\\n\")\n",
    "\n",
    "print(f\"All models in the folder {model_dir} are annotated.\")"
   ]
  }
 ],
 "metadata": {
  "kernelspec": {
   "display_name": "context_GEM",
   "language": "python",
   "name": "python3"
  },
  "language_info": {
   "codemirror_mode": {
    "name": "ipython",
    "version": 3
   },
   "file_extension": ".py",
   "mimetype": "text/x-python",
   "name": "python",
   "nbconvert_exporter": "python",
   "pygments_lexer": "ipython3",
   "version": "3.12.3"
  }
 },
 "nbformat": 4,
 "nbformat_minor": 2
}
