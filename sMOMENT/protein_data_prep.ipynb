{
 "cells": [
  {
   "cell_type": "code",
   "execution_count": 1,
   "metadata": {},
   "outputs": [],
   "source": [
    "# imports\n",
    "import os\n",
    "import pathlib\n",
    "import pandas as pd\n",
    "import cobra"
   ]
  },
  {
   "cell_type": "code",
   "execution_count": 2,
   "metadata": {},
   "outputs": [],
   "source": [
    "# get current directory\n",
    "current_dir = pathlib.Path(os.getcwd())"
   ]
  },
  {
   "cell_type": "code",
   "execution_count": 3,
   "metadata": {},
   "outputs": [],
   "source": [
    "# ****************************************************************************************************\n",
    "# Step 6:   Calculating protein concentrations from LC-MS/MS data \n",
    "# ****************************************************************************************************\n",
    "\n",
    "# inputs\n",
    "\n",
    "# path to the protein measurement data\n",
    "data_path = current_dir.parent / \"datasets\" / \"A735_protein_data_CCM_PRM_raw_data.xlsx\"\n",
    "# path to Human1 SBML\n",
    "human1_path = current_dir.parent / \"models\" / \"Human-GEM.xml\"\n",
    "# path to ftINIT model SBML\n",
    "model_path = current_dir.parent / \"models\" / \"A375_ftINIT_1+0_thr100_model.xml\"\n",
    "# output file path\n",
    "output_path = data_path.parent / \"A735_protein_data_prep.tsv\""
   ]
  },
  {
   "cell_type": "code",
   "execution_count": 4,
   "metadata": {},
   "outputs": [],
   "source": [
    "# Read the first sheet of the protein measurement Excel file into a DataFrame\n",
    "all_prot = pd.read_excel(data_path)"
   ]
  },
  {
   "cell_type": "code",
   "execution_count": 5,
   "metadata": {},
   "outputs": [
    {
     "name": "stdout",
     "output_type": "stream",
     "text": [
      "Number of measured Proteins: 82\n"
     ]
    }
   ],
   "source": [
    "print(f\"Number of measured Proteins: {all_prot[\"Protein Accession\"].nunique()}\")"
   ]
  },
  {
   "cell_type": "code",
   "execution_count": 6,
   "metadata": {},
   "outputs": [],
   "source": [
    "# filter for data from the primary tumor\n",
    "primary_prot = all_prot.loc[all_prot[\"Condition\"] == \"SQ\"]"
   ]
  },
  {
   "cell_type": "code",
   "execution_count": 7,
   "metadata": {},
   "outputs": [],
   "source": [
    "# create dataframe that maps sample peptides and peptide standards next to each other\n",
    "primary_comparison = pd.concat(\n",
    "    [\n",
    "        primary_prot.loc[primary_prot[\"Isotope Label Type\"] == \"light\", [\"Protein Accession\", \"Protein\", \"Peptide Sequence\", \"BioReplicate\", \"Total Area\"]].reset_index(drop=True), \n",
    "        primary_prot.rename(columns={\"Total Area\": \"Heavy Spike Area\"}).loc[primary_prot[\"Isotope Label Type\"] == \"heavy\", [\"Heavy Spike Area\"]].reset_index(drop=True)\n",
    "    ], \n",
    "    axis=1\n",
    "    )"
   ]
  },
  {
   "cell_type": "code",
   "execution_count": 8,
   "metadata": {},
   "outputs": [
    {
     "data": {
      "text/html": [
       "<div>\n",
       "<style scoped>\n",
       "    .dataframe tbody tr th:only-of-type {\n",
       "        vertical-align: middle;\n",
       "    }\n",
       "\n",
       "    .dataframe tbody tr th {\n",
       "        vertical-align: top;\n",
       "    }\n",
       "\n",
       "    .dataframe thead th {\n",
       "        text-align: right;\n",
       "    }\n",
       "</style>\n",
       "<table border=\"1\" class=\"dataframe\">\n",
       "  <thead>\n",
       "    <tr style=\"text-align: right;\">\n",
       "      <th></th>\n",
       "      <th>Protein Accession</th>\n",
       "      <th>Protein</th>\n",
       "      <th>Peptide Sequence</th>\n",
       "      <th>BioReplicate</th>\n",
       "      <th>Total Area</th>\n",
       "      <th>Heavy Spike Area</th>\n",
       "      <th>Relative Protein Content</th>\n",
       "      <th>Absolute Protein Content [mmol/gDW]</th>\n",
       "    </tr>\n",
       "  </thead>\n",
       "  <tbody>\n",
       "    <tr>\n",
       "      <th>0</th>\n",
       "      <td>P52209</td>\n",
       "      <td>6PGD_HUMAN</td>\n",
       "      <td>VDDFLANEAK</td>\n",
       "      <td>1.0</td>\n",
       "      <td>1991927.0</td>\n",
       "      <td>1.223529e+09</td>\n",
       "      <td>0.001628</td>\n",
       "      <td>0.000008</td>\n",
       "    </tr>\n",
       "    <tr>\n",
       "      <th>1</th>\n",
       "      <td>P52209</td>\n",
       "      <td>6PGD_HUMAN</td>\n",
       "      <td>VDDFLANEAK</td>\n",
       "      <td>2.0</td>\n",
       "      <td>2491982.0</td>\n",
       "      <td>9.456593e+08</td>\n",
       "      <td>0.002635</td>\n",
       "      <td>0.000013</td>\n",
       "    </tr>\n",
       "    <tr>\n",
       "      <th>2</th>\n",
       "      <td>P52209</td>\n",
       "      <td>6PGD_HUMAN</td>\n",
       "      <td>VDDFLANEAK</td>\n",
       "      <td>3.0</td>\n",
       "      <td>2275862.0</td>\n",
       "      <td>1.091832e+09</td>\n",
       "      <td>0.002084</td>\n",
       "      <td>0.000010</td>\n",
       "    </tr>\n",
       "    <tr>\n",
       "      <th>3</th>\n",
       "      <td>P52209</td>\n",
       "      <td>6PGD_HUMAN</td>\n",
       "      <td>VDDFLANEAK</td>\n",
       "      <td>1.0</td>\n",
       "      <td>1991927.0</td>\n",
       "      <td>1.223529e+09</td>\n",
       "      <td>0.001628</td>\n",
       "      <td>0.000008</td>\n",
       "    </tr>\n",
       "    <tr>\n",
       "      <th>4</th>\n",
       "      <td>P52209</td>\n",
       "      <td>6PGD_HUMAN</td>\n",
       "      <td>VDDFLANEAK</td>\n",
       "      <td>2.0</td>\n",
       "      <td>2491982.0</td>\n",
       "      <td>9.456593e+08</td>\n",
       "      <td>0.002635</td>\n",
       "      <td>0.000013</td>\n",
       "    </tr>\n",
       "  </tbody>\n",
       "</table>\n",
       "</div>"
      ],
      "text/plain": [
       "  Protein Accession     Protein Peptide Sequence  BioReplicate  Total Area  \\\n",
       "0            P52209  6PGD_HUMAN       VDDFLANEAK           1.0   1991927.0   \n",
       "1            P52209  6PGD_HUMAN       VDDFLANEAK           2.0   2491982.0   \n",
       "2            P52209  6PGD_HUMAN       VDDFLANEAK           3.0   2275862.0   \n",
       "3            P52209  6PGD_HUMAN       VDDFLANEAK           1.0   1991927.0   \n",
       "4            P52209  6PGD_HUMAN       VDDFLANEAK           2.0   2491982.0   \n",
       "\n",
       "   Heavy Spike Area  Relative Protein Content  \\\n",
       "0      1.223529e+09                  0.001628   \n",
       "1      9.456593e+08                  0.002635   \n",
       "2      1.091832e+09                  0.002084   \n",
       "3      1.223529e+09                  0.001628   \n",
       "4      9.456593e+08                  0.002635   \n",
       "\n",
       "   Absolute Protein Content [mmol/gDW]  \n",
       "0                             0.000008  \n",
       "1                             0.000013  \n",
       "2                             0.000010  \n",
       "3                             0.000008  \n",
       "4                             0.000013  "
      ]
     },
     "execution_count": 8,
     "metadata": {},
     "output_type": "execute_result"
    }
   ],
   "source": [
    "# calculate quotient of sample and standard measurements\n",
    "primary_comparison[\"Relative Protein Content\"] = primary_comparison[\"Total Area\"] / primary_comparison[\"Heavy Spike Area\"]\n",
    "\n",
    "# calculate the absolute protein content based on peptide standard concentrations\n",
    "# sample weight: 10 ng = 10 * 10e-9 g =  0.00000001 g\n",
    "# amount of heavy peptide: 50 fmol = 50 * 10e-12 mmol = 0.00000000005 mmol \n",
    "primary_comparison[\"Absolute Protein Content [mmol/gDW]\"] = primary_comparison[\"Relative Protein Content\"] * 0.00000000005 / 0.00000001\n",
    "primary_comparison.head()"
   ]
  },
  {
   "cell_type": "code",
   "execution_count": 9,
   "metadata": {},
   "outputs": [
    {
     "data": {
      "text/html": [
       "<div>\n",
       "<style scoped>\n",
       "    .dataframe tbody tr th:only-of-type {\n",
       "        vertical-align: middle;\n",
       "    }\n",
       "\n",
       "    .dataframe tbody tr th {\n",
       "        vertical-align: top;\n",
       "    }\n",
       "\n",
       "    .dataframe thead th {\n",
       "        text-align: right;\n",
       "    }\n",
       "</style>\n",
       "<table border=\"1\" class=\"dataframe\">\n",
       "  <thead>\n",
       "    <tr style=\"text-align: right;\">\n",
       "      <th></th>\n",
       "      <th>Protein Accession</th>\n",
       "      <th>mean</th>\n",
       "      <th>std</th>\n",
       "    </tr>\n",
       "  </thead>\n",
       "  <tbody>\n",
       "    <tr>\n",
       "      <th>0</th>\n",
       "      <td>O00330</td>\n",
       "      <td>0.000009</td>\n",
       "      <td>5.308544e-06</td>\n",
       "    </tr>\n",
       "    <tr>\n",
       "      <th>1</th>\n",
       "      <td>O00757</td>\n",
       "      <td>0.000004</td>\n",
       "      <td>2.432937e-06</td>\n",
       "    </tr>\n",
       "    <tr>\n",
       "      <th>2</th>\n",
       "      <td>O14556</td>\n",
       "      <td>0.000002</td>\n",
       "      <td>2.998146e-07</td>\n",
       "    </tr>\n",
       "    <tr>\n",
       "      <th>3</th>\n",
       "      <td>O43837</td>\n",
       "      <td>0.000008</td>\n",
       "      <td>1.889814e-06</td>\n",
       "    </tr>\n",
       "    <tr>\n",
       "      <th>4</th>\n",
       "      <td>O75390</td>\n",
       "      <td>0.000022</td>\n",
       "      <td>2.217726e-05</td>\n",
       "    </tr>\n",
       "  </tbody>\n",
       "</table>\n",
       "</div>"
      ],
      "text/plain": [
       "  Protein Accession      mean           std\n",
       "0            O00330  0.000009  5.308544e-06\n",
       "1            O00757  0.000004  2.432937e-06\n",
       "2            O14556  0.000002  2.998146e-07\n",
       "3            O43837  0.000008  1.889814e-06\n",
       "4            O75390  0.000022  2.217726e-05"
      ]
     },
     "execution_count": 9,
     "metadata": {},
     "output_type": "execute_result"
    }
   ],
   "source": [
    "# calculate the average concentration of peptides associated with each protein\n",
    "primary_conc = primary_comparison.groupby([\"Protein Accession\"])[\"Absolute Protein Content [mmol/gDW]\"].agg(['mean', 'std']).reset_index()\n",
    "primary_conc.head()"
   ]
  },
  {
   "cell_type": "code",
   "execution_count": 10,
   "metadata": {},
   "outputs": [],
   "source": [
    "# loading Human1 model for protein-gene-mapping\n",
    "ihuman = cobra.io.read_sbml_model(human1_path)"
   ]
  },
  {
   "cell_type": "code",
   "execution_count": 11,
   "metadata": {},
   "outputs": [
    {
     "name": "stdout",
     "output_type": "stream",
     "text": [
      "Number of proteins (with protein accession) in Human-GEM: 2875\n",
      "Number of proteins measuered: 82\n",
      "Number of measured proteins present in the model: 80\n"
     ]
    }
   ],
   "source": [
    "# retrieving protein accession numbers & gene ids\n",
    "# and calculating number for synonyms\n",
    "gene_id_mapping = {}\n",
    "num_synonyms = 0\n",
    "for gene in ihuman.genes:\n",
    "    if isinstance(gene.annotation[\"uniprot\"], list):\n",
    "        for synonym in gene.annotation[\"uniprot\"]:\n",
    "            gene_id_mapping[synonym] = gene.id\n",
    "            num_synonyms += 1\n",
    "        num_synonyms -= 1 # to count only additional synonyms\n",
    "    else:\n",
    "        gene_id_mapping[gene.annotation[\"uniprot\"]] = gene.id\n",
    "\n",
    "print(f\"Number of proteins (with protein accession) in Human-GEM: {len(gene_id_mapping.keys()) - num_synonyms}\")\n",
    "measured_proteins = primary_comparison[\"Protein Accession\"].unique()\n",
    "print(f\"Number of proteins measuered: {len(measured_proteins)}\")\n",
    "measured_proteins_model = set(gene_id_mapping.keys()).intersection(set(measured_proteins))\n",
    "print(f'Number of measured proteins present in the model: {len(measured_proteins_model)}')"
   ]
  },
  {
   "cell_type": "code",
   "execution_count": 12,
   "metadata": {},
   "outputs": [],
   "source": [
    "# load A375 model to filter for genes in tissue-specific model\n",
    "A375_ftINIT = cobra.io.read_sbml_model(model_path)\n",
    "A375_model_genes = []\n",
    "for gene in A375_ftINIT.genes:\n",
    "    A375_model_genes.append(gene.id)"
   ]
  },
  {
   "cell_type": "code",
   "execution_count": 15,
   "metadata": {},
   "outputs": [
    {
     "name": "stdout",
     "output_type": "stream",
     "text": [
      "80\n",
      "79\n"
     ]
    },
    {
     "name": "stderr",
     "output_type": "stream",
     "text": [
      "C:\\Users\\phili\\AppData\\Local\\Temp\\ipykernel_44164\\4028108415.py:3: SettingWithCopyWarning: \n",
      "A value is trying to be set on a copy of a slice from a DataFrame.\n",
      "Try using .loc[row_indexer,col_indexer] = value instead\n",
      "\n",
      "See the caveats in the documentation: https://pandas.pydata.org/pandas-docs/stable/user_guide/indexing.html#returning-a-view-versus-a-copy\n",
      "  model_conc[\"Gene ID\"] = [gene_id_mapping[accession_number] for accession_number in model_conc[\"Protein Accession\"]]\n"
     ]
    },
    {
     "data": {
      "text/html": [
       "<div>\n",
       "<style scoped>\n",
       "    .dataframe tbody tr th:only-of-type {\n",
       "        vertical-align: middle;\n",
       "    }\n",
       "\n",
       "    .dataframe tbody tr th {\n",
       "        vertical-align: top;\n",
       "    }\n",
       "\n",
       "    .dataframe thead th {\n",
       "        text-align: right;\n",
       "    }\n",
       "</style>\n",
       "<table border=\"1\" class=\"dataframe\">\n",
       "  <thead>\n",
       "    <tr style=\"text-align: right;\">\n",
       "      <th></th>\n",
       "      <th>Protein Accession</th>\n",
       "      <th>Protein Concentration</th>\n",
       "      <th>std</th>\n",
       "      <th>Gene ID</th>\n",
       "    </tr>\n",
       "  </thead>\n",
       "  <tbody>\n",
       "    <tr>\n",
       "      <th>0</th>\n",
       "      <td>O00330</td>\n",
       "      <td>8.786247e-06</td>\n",
       "      <td>5.308544e-06</td>\n",
       "      <td>ENSG00000110435</td>\n",
       "    </tr>\n",
       "    <tr>\n",
       "      <th>1</th>\n",
       "      <td>O00757</td>\n",
       "      <td>4.277368e-06</td>\n",
       "      <td>2.432937e-06</td>\n",
       "      <td>ENSG00000130957</td>\n",
       "    </tr>\n",
       "    <tr>\n",
       "      <th>2</th>\n",
       "      <td>O14556</td>\n",
       "      <td>2.261984e-06</td>\n",
       "      <td>2.998146e-07</td>\n",
       "      <td>ENSG00000105679</td>\n",
       "    </tr>\n",
       "    <tr>\n",
       "      <th>3</th>\n",
       "      <td>O43837</td>\n",
       "      <td>7.776139e-06</td>\n",
       "      <td>1.889814e-06</td>\n",
       "      <td>ENSG00000101365</td>\n",
       "    </tr>\n",
       "    <tr>\n",
       "      <th>4</th>\n",
       "      <td>O75390</td>\n",
       "      <td>2.204465e-05</td>\n",
       "      <td>2.217726e-05</td>\n",
       "      <td>ENSG00000062485</td>\n",
       "    </tr>\n",
       "    <tr>\n",
       "      <th>...</th>\n",
       "      <td>...</td>\n",
       "      <td>...</td>\n",
       "      <td>...</td>\n",
       "      <td>...</td>\n",
       "    </tr>\n",
       "    <tr>\n",
       "      <th>77</th>\n",
       "      <td>Q9NQR9</td>\n",
       "      <td>1.795760e-04</td>\n",
       "      <td>2.759857e-04</td>\n",
       "      <td>ENSG00000152254</td>\n",
       "    </tr>\n",
       "    <tr>\n",
       "      <th>78</th>\n",
       "      <td>Q9NR19</td>\n",
       "      <td>2.758456e-06</td>\n",
       "      <td>9.208418e-07</td>\n",
       "      <td>ENSG00000131069</td>\n",
       "    </tr>\n",
       "    <tr>\n",
       "      <th>79</th>\n",
       "      <td>Q9NUB1</td>\n",
       "      <td>1.149030e-05</td>\n",
       "      <td>9.065110e-06</td>\n",
       "      <td>ENSG00000154930</td>\n",
       "    </tr>\n",
       "    <tr>\n",
       "      <th>80</th>\n",
       "      <td>Q9P2R7</td>\n",
       "      <td>1.254821e-05</td>\n",
       "      <td>4.057558e-06</td>\n",
       "      <td>ENSG00000136143</td>\n",
       "    </tr>\n",
       "    <tr>\n",
       "      <th>81</th>\n",
       "      <td>Q9Y315</td>\n",
       "      <td>7.053881e-07</td>\n",
       "      <td>6.908062e-07</td>\n",
       "      <td>ENSG00000023697</td>\n",
       "    </tr>\n",
       "  </tbody>\n",
       "</table>\n",
       "<p>79 rows × 4 columns</p>\n",
       "</div>"
      ],
      "text/plain": [
       "   Protein Accession  Protein Concentration           std          Gene ID\n",
       "0             O00330           8.786247e-06  5.308544e-06  ENSG00000110435\n",
       "1             O00757           4.277368e-06  2.432937e-06  ENSG00000130957\n",
       "2             O14556           2.261984e-06  2.998146e-07  ENSG00000105679\n",
       "3             O43837           7.776139e-06  1.889814e-06  ENSG00000101365\n",
       "4             O75390           2.204465e-05  2.217726e-05  ENSG00000062485\n",
       "..               ...                    ...           ...              ...\n",
       "77            Q9NQR9           1.795760e-04  2.759857e-04  ENSG00000152254\n",
       "78            Q9NR19           2.758456e-06  9.208418e-07  ENSG00000131069\n",
       "79            Q9NUB1           1.149030e-05  9.065110e-06  ENSG00000154930\n",
       "80            Q9P2R7           1.254821e-05  4.057558e-06  ENSG00000136143\n",
       "81            Q9Y315           7.053881e-07  6.908062e-07  ENSG00000023697\n",
       "\n",
       "[79 rows x 4 columns]"
      ]
     },
     "execution_count": 15,
     "metadata": {},
     "output_type": "execute_result"
    }
   ],
   "source": [
    "# save the protein concentrations as tsv files for copy-pasting into autopacmen input file\n",
    "model_conc = primary_conc.loc[primary_conc[\"Protein Accession\"].isin(measured_proteins_model)]\n",
    "model_conc[\"Gene ID\"] = [gene_id_mapping[accession_number] for accession_number in model_conc[\"Protein Accession\"]]\n",
    "print(len(model_conc))\n",
    "final_conc = model_conc.loc[model_conc[\"Gene ID\"].isin(A375_model_genes)]\n",
    "print(len(final_conc))\n",
    "final_conc.rename(columns={\"mean\": \"Protein Concentration\"}).to_csv(output_path, sep=\"\\t\", index=False, float_format=\"%.15g\")\n",
    "final_conc.rename(columns={\"mean\": \"Protein Concentration\"})"
   ]
  }
 ],
 "metadata": {
  "kernelspec": {
   "display_name": "context_GEM",
   "language": "python",
   "name": "python3"
  },
  "language_info": {
   "codemirror_mode": {
    "name": "ipython",
    "version": 3
   },
   "file_extension": ".py",
   "mimetype": "text/x-python",
   "name": "python",
   "nbconvert_exporter": "python",
   "pygments_lexer": "ipython3",
   "version": "3.12.3"
  }
 },
 "nbformat": 4,
 "nbformat_minor": 2
}
