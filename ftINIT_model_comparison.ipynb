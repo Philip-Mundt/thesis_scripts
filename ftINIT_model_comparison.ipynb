{
 "cells": [
  {
   "cell_type": "code",
   "execution_count": 1,
   "metadata": {},
   "outputs": [],
   "source": [
    "import cobra\n",
    "import scipy\n",
    "import os\n",
    "from pathlib import Path"
   ]
  },
  {
   "cell_type": "code",
   "execution_count": 2,
   "metadata": {},
   "outputs": [],
   "source": [
    "# create dictionary for all models\n",
    "models = {}\n",
    "\n",
    "# load human GEM\n",
    "models[\"ihuman\"] = cobra.io.load_matlab_model(\"./models/Human-GEM.mat\")"
   ]
  },
  {
   "cell_type": "code",
   "execution_count": null,
   "metadata": {},
   "outputs": [
    {
     "ename": "UnicodeDecodeError",
     "evalue": "'charmap' codec can't decode byte 0x90 in position 181: character maps to <undefined>",
     "output_type": "error",
     "traceback": [
      "\u001b[1;31m---------------------------------------------------------------------------\u001b[0m",
      "\u001b[1;31mUnicodeDecodeError\u001b[0m                        Traceback (most recent call last)",
      "Cell \u001b[1;32mIn[8], line 9\u001b[0m\n\u001b[0;32m      7\u001b[0m     \u001b[38;5;28;01mwith\u001b[39;00m \u001b[38;5;28mopen\u001b[39m(\u001b[38;5;124m\"\u001b[39m\u001b[38;5;124m./models/\u001b[39m\u001b[38;5;124m\"\u001b[39m\u001b[38;5;241m+\u001b[39mfilename) \u001b[38;5;28;01mas\u001b[39;00m model:\n\u001b[0;32m      8\u001b[0m         pos \u001b[38;5;241m=\u001b[39m filename\u001b[38;5;241m.\u001b[39mfind(\u001b[38;5;124m\"\u001b[39m\u001b[38;5;124m_\u001b[39m\u001b[38;5;124m\"\u001b[39m)\n\u001b[1;32m----> 9\u001b[0m         models[(filename[:pos])] \u001b[38;5;241m=\u001b[39m \u001b[43mcobra\u001b[49m\u001b[38;5;241;43m.\u001b[39;49m\u001b[43mio\u001b[49m\u001b[38;5;241;43m.\u001b[39;49m\u001b[43mload_matlab_model\u001b[49m\u001b[43m(\u001b[49m\u001b[43mmodel\u001b[49m\u001b[43m)\u001b[49m\n\u001b[0;32m     11\u001b[0m     \u001b[38;5;28;01mcontinue\u001b[39;00m\n\u001b[0;32m     12\u001b[0m \u001b[38;5;28;01melse\u001b[39;00m:\n",
      "File \u001b[1;32mc:\\Users\\phili\\anaconda3\\envs\\context_GEM\\Lib\\site-packages\\cobra\\io\\mat.py:328\u001b[0m, in \u001b[0;36mload_matlab_model\u001b[1;34m(infile_path, variable_name, inf)\u001b[0m\n\u001b[0;32m    326\u001b[0m     data \u001b[38;5;241m=\u001b[39m scipy_io\u001b[38;5;241m.\u001b[39mloadmat(infile_path\u001b[38;5;241m.\u001b[39mopen(\u001b[38;5;124m\"\u001b[39m\u001b[38;5;124mrb\u001b[39m\u001b[38;5;124m\"\u001b[39m))  \u001b[38;5;66;03m# noqa W9018\u001b[39;00m\n\u001b[0;32m    327\u001b[0m \u001b[38;5;28;01melse\u001b[39;00m:\n\u001b[1;32m--> 328\u001b[0m     data \u001b[38;5;241m=\u001b[39m \u001b[43mscipy_io\u001b[49m\u001b[38;5;241;43m.\u001b[39;49m\u001b[43mloadmat\u001b[49m\u001b[43m(\u001b[49m\u001b[43minfile_path\u001b[49m\u001b[43m)\u001b[49m  \u001b[38;5;66;03m# noqa W9018\u001b[39;00m\n\u001b[0;32m    329\u001b[0m possible_names \u001b[38;5;241m=\u001b[39m []\n\u001b[0;32m    330\u001b[0m \u001b[38;5;28;01mif\u001b[39;00m variable_name \u001b[38;5;129;01mis\u001b[39;00m \u001b[38;5;28;01mNone\u001b[39;00m:\n\u001b[0;32m    331\u001b[0m     \u001b[38;5;66;03m# skip meta variables\u001b[39;00m\n",
      "File \u001b[1;32mc:\\Users\\phili\\anaconda3\\envs\\context_GEM\\Lib\\site-packages\\scipy\\io\\matlab\\_mio.py:226\u001b[0m, in \u001b[0;36mloadmat\u001b[1;34m(file_name, mdict, appendmat, **kwargs)\u001b[0m\n\u001b[0;32m    224\u001b[0m variable_names \u001b[38;5;241m=\u001b[39m kwargs\u001b[38;5;241m.\u001b[39mpop(\u001b[38;5;124m'\u001b[39m\u001b[38;5;124mvariable_names\u001b[39m\u001b[38;5;124m'\u001b[39m, \u001b[38;5;28;01mNone\u001b[39;00m)\n\u001b[0;32m    225\u001b[0m \u001b[38;5;28;01mwith\u001b[39;00m _open_file_context(file_name, appendmat) \u001b[38;5;28;01mas\u001b[39;00m f:\n\u001b[1;32m--> 226\u001b[0m     MR, _ \u001b[38;5;241m=\u001b[39m \u001b[43mmat_reader_factory\u001b[49m\u001b[43m(\u001b[49m\u001b[43mf\u001b[49m\u001b[43m,\u001b[49m\u001b[43m \u001b[49m\u001b[38;5;241;43m*\u001b[39;49m\u001b[38;5;241;43m*\u001b[39;49m\u001b[43mkwargs\u001b[49m\u001b[43m)\u001b[49m\n\u001b[0;32m    227\u001b[0m     matfile_dict \u001b[38;5;241m=\u001b[39m MR\u001b[38;5;241m.\u001b[39mget_variables(variable_names)\n\u001b[0;32m    229\u001b[0m \u001b[38;5;28;01mif\u001b[39;00m mdict \u001b[38;5;129;01mis\u001b[39;00m \u001b[38;5;129;01mnot\u001b[39;00m \u001b[38;5;28;01mNone\u001b[39;00m:\n",
      "File \u001b[1;32mc:\\Users\\phili\\anaconda3\\envs\\context_GEM\\Lib\\site-packages\\scipy\\io\\matlab\\_mio.py:74\u001b[0m, in \u001b[0;36mmat_reader_factory\u001b[1;34m(file_name, appendmat, **kwargs)\u001b[0m\n\u001b[0;32m     54\u001b[0m \u001b[38;5;250m\u001b[39m\u001b[38;5;124;03m\"\"\"\u001b[39;00m\n\u001b[0;32m     55\u001b[0m \u001b[38;5;124;03mCreate reader for matlab .mat format files.\u001b[39;00m\n\u001b[0;32m     56\u001b[0m \n\u001b[1;32m   (...)\u001b[0m\n\u001b[0;32m     71\u001b[0m \n\u001b[0;32m     72\u001b[0m \u001b[38;5;124;03m\"\"\"\u001b[39;00m\n\u001b[0;32m     73\u001b[0m byte_stream, file_opened \u001b[38;5;241m=\u001b[39m _open_file(file_name, appendmat)\n\u001b[1;32m---> 74\u001b[0m mjv, mnv \u001b[38;5;241m=\u001b[39m \u001b[43m_get_matfile_version\u001b[49m\u001b[43m(\u001b[49m\u001b[43mbyte_stream\u001b[49m\u001b[43m)\u001b[49m\n\u001b[0;32m     75\u001b[0m \u001b[38;5;28;01mif\u001b[39;00m mjv \u001b[38;5;241m==\u001b[39m \u001b[38;5;241m0\u001b[39m:\n\u001b[0;32m     76\u001b[0m     \u001b[38;5;28;01mreturn\u001b[39;00m MatFile4Reader(byte_stream, \u001b[38;5;241m*\u001b[39m\u001b[38;5;241m*\u001b[39mkwargs), file_opened\n",
      "File \u001b[1;32mc:\\Users\\phili\\anaconda3\\envs\\context_GEM\\Lib\\site-packages\\scipy\\io\\matlab\\_miobase.py:226\u001b[0m, in \u001b[0;36m_get_matfile_version\u001b[1;34m(fileobj)\u001b[0m\n\u001b[0;32m    223\u001b[0m \u001b[38;5;28;01mdef\u001b[39;00m \u001b[38;5;21m_get_matfile_version\u001b[39m(fileobj):\n\u001b[0;32m    224\u001b[0m     \u001b[38;5;66;03m# Mat4 files have a zero somewhere in first 4 bytes\u001b[39;00m\n\u001b[0;32m    225\u001b[0m     fileobj\u001b[38;5;241m.\u001b[39mseek(\u001b[38;5;241m0\u001b[39m)\n\u001b[1;32m--> 226\u001b[0m     mopt_bytes \u001b[38;5;241m=\u001b[39m \u001b[43mfileobj\u001b[49m\u001b[38;5;241;43m.\u001b[39;49m\u001b[43mread\u001b[49m\u001b[43m(\u001b[49m\u001b[38;5;241;43m4\u001b[39;49m\u001b[43m)\u001b[49m\n\u001b[0;32m    227\u001b[0m     \u001b[38;5;28;01mif\u001b[39;00m \u001b[38;5;28mlen\u001b[39m(mopt_bytes) \u001b[38;5;241m==\u001b[39m \u001b[38;5;241m0\u001b[39m:\n\u001b[0;32m    228\u001b[0m         \u001b[38;5;28;01mraise\u001b[39;00m MatReadError(\u001b[38;5;124m\"\u001b[39m\u001b[38;5;124mMat file appears to be empty\u001b[39m\u001b[38;5;124m\"\u001b[39m)\n",
      "File \u001b[1;32mc:\\Users\\phili\\anaconda3\\envs\\context_GEM\\Lib\\encodings\\cp1252.py:23\u001b[0m, in \u001b[0;36mIncrementalDecoder.decode\u001b[1;34m(self, input, final)\u001b[0m\n\u001b[0;32m     22\u001b[0m \u001b[38;5;28;01mdef\u001b[39;00m \u001b[38;5;21mdecode\u001b[39m(\u001b[38;5;28mself\u001b[39m, \u001b[38;5;28minput\u001b[39m, final\u001b[38;5;241m=\u001b[39m\u001b[38;5;28;01mFalse\u001b[39;00m):\n\u001b[1;32m---> 23\u001b[0m     \u001b[38;5;28;01mreturn\u001b[39;00m \u001b[43mcodecs\u001b[49m\u001b[38;5;241;43m.\u001b[39;49m\u001b[43mcharmap_decode\u001b[49m\u001b[43m(\u001b[49m\u001b[38;5;28;43minput\u001b[39;49m\u001b[43m,\u001b[49m\u001b[38;5;28;43mself\u001b[39;49m\u001b[38;5;241;43m.\u001b[39;49m\u001b[43merrors\u001b[49m\u001b[43m,\u001b[49m\u001b[43mdecoding_table\u001b[49m\u001b[43m)\u001b[49m[\u001b[38;5;241m0\u001b[39m]\n",
      "\u001b[1;31mUnicodeDecodeError\u001b[0m: 'charmap' codec can't decode byte 0x90 in position 181: character maps to <undefined>"
     ]
    }
   ],
   "source": [
    "\n",
    "# load ftINIT models\n",
    "directory = os.fsencode(\"./models\")\n",
    "    \n",
    "for file in os.listdir(directory):\n",
    "    filename = os.fsdecode(file)\n",
    "    if filename.endswith(\"_model.mat\"): \n",
    "        with open(\"./models/\"+filename) as model:\n",
    "            pos = filename.find(\"_\")\n",
    "            models[(filename[:pos])] = cobra.io.load_matlab_model(model)\n",
    "    else:\n",
    "        continue\n",
    "\n",
    "print(models)"
   ]
  },
  {
   "cell_type": "code",
   "execution_count": 3,
   "metadata": {},
   "outputs": [],
   "source": [
    "# load model generated using example data from ftINIT paper\n",
    "test = cobra.io.load_matlab_model(\"./models/test_model.mat\")"
   ]
  },
  {
   "cell_type": "code",
   "execution_count": 4,
   "metadata": {},
   "outputs": [],
   "source": [
    "# load tissue specific model\n",
    "skcm = cobra.io.load_matlab_model(\"./models/SKCM_model.mat\")"
   ]
  },
  {
   "cell_type": "code",
   "execution_count": 10,
   "metadata": {},
   "outputs": [
    {
     "name": "stdout",
     "output_type": "stream",
     "text": [
      "iHuman:\n",
      "Genes: 2889\n",
      "Reactions: 12995\n",
      "Groups: 148\n",
      "Growth: <Solution 124.868 at 0x27df4f57440>\n",
      "\n",
      "gtex-Model:\n",
      "Genes: 2415\n",
      "Reactions: 8266\n",
      "Groups: 136\n",
      "Growth: <Solution 124.722 at 0x27df4f57980>\n",
      "\n",
      "SKCM:\n",
      "Genes: 2415\n",
      "Reactions: 8340\n",
      "Groups: 138\n",
      "Growth: <Solution 124.804 at 0x27df4f54560>\n"
     ]
    }
   ],
   "source": [
    "print(\"iHuman:\")\n",
    "print(f\"Genes: {len(ihuman.genes)}\")\n",
    "print(f\"Reactions: {len(ihuman.reactions)}\")\n",
    "print(f\"Groups: {len(ihuman.groups)}\")\n",
    "print(f\"Growth: {ihuman.optimize()}\")\n",
    "print()\n",
    "print(\"gtex-Model:\")\n",
    "print(f\"Genes: {len(test.genes)}\")\n",
    "print(f\"Reactions: {len(test.reactions)}\")\n",
    "print(f\"Groups: {len(test.groups)}\")\n",
    "print(f\"Growth: {test.optimize()}\")\n",
    "print()\n",
    "print(\"SKCM:\")\n",
    "print(f\"Genes: {len(skcm.genes)}\")\n",
    "print(f\"Reactions: {len(skcm.reactions)}\")\n",
    "print(f\"Groups: {len(skcm.groups)}\")\n",
    "print(f\"Growth: {skcm.optimize()}\")"
   ]
  },
  {
   "cell_type": "code",
   "execution_count": 15,
   "metadata": {},
   "outputs": [
    {
     "name": "stdout",
     "output_type": "stream",
     "text": [
      "\tArachidonic acid metabolism\n",
      "Alkaloids biosynthesis\n",
      "Fatty acid degradation\n",
      "Hippurate metabolism\n",
      "Insect hormone biosynthesis\n",
      "Peptide metabolism\n",
      "Toluene degradation\n",
      "Triacylglycerol synthesis\n",
      "Ubiquinone and other terpenoid-quinone biosynthesis\n",
      "octane oxidation\n"
     ]
    }
   ],
   "source": [
    "deleted_groups = []\n",
    "for group in ihuman.groups:\n",
    "    if group not in skcm.groups:\n",
    "        deleted_groups.append(group.name)\n",
    "        print(group.name)"
   ]
  }
 ],
 "metadata": {
  "kernelspec": {
   "display_name": "context_GEM",
   "language": "python",
   "name": "python3"
  },
  "language_info": {
   "codemirror_mode": {
    "name": "ipython",
    "version": 3
   },
   "file_extension": ".py",
   "mimetype": "text/x-python",
   "name": "python",
   "nbconvert_exporter": "python",
   "pygments_lexer": "ipython3",
   "version": "3.12.3"
  }
 },
 "nbformat": 4,
 "nbformat_minor": 2
}
