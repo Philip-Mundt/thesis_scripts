{
 "cells": [
  {
   "cell_type": "code",
   "execution_count": 3,
   "metadata": {},
   "outputs": [],
   "source": [
    "'''\n",
    "creates a folder structure like this:\n",
    "thesis_scripts/\n",
    "├── ftINIT/\n",
    "│   └── ...\n",
    "├── sMOMENT/\n",
    "│   └── ...\n",
    "├── models/\n",
    "└── datasets/\n",
    "    ├── ftINIT/\n",
    "    └── sMOMENT/\n",
    "\n",
    "'''\n",
    "\n",
    "\n",
    "# imports\n",
    "import os\n",
    "\n",
    "os.makedirs(\"datasets/validation\", exist_ok=True)\n",
    "os.makedirs(\"datasets/ftINIT\", exist_ok=True)\n",
    "os.makedirs(\"datasets/sMOMENT\", exist_ok=True)\n",
    "os.makedirs(\"models\", exist_ok=True)"
   ]
  }
 ],
 "metadata": {
  "kernelspec": {
   "display_name": "context_GEM",
   "language": "python",
   "name": "python3"
  },
  "language_info": {
   "codemirror_mode": {
    "name": "ipython",
    "version": 3
   },
   "file_extension": ".py",
   "mimetype": "text/x-python",
   "name": "python",
   "nbconvert_exporter": "python",
   "pygments_lexer": "ipython3",
   "version": "3.12.3"
  }
 },
 "nbformat": 4,
 "nbformat_minor": 2
}
