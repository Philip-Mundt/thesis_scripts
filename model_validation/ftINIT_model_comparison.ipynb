{
 "cells": [
  {
   "cell_type": "code",
   "execution_count": 1,
   "metadata": {},
   "outputs": [],
   "source": [
    "import cobra\n",
    "import os\n",
    "import pandas as pd\n",
    "import numpy as np\n",
    "import matplotlib.pyplot as plt\n",
    "from matplotlib.colors import Normalize"
   ]
  },
  {
   "cell_type": "code",
   "execution_count": null,
   "metadata": {},
   "outputs": [],
   "source": [
    "# create dictionary for all models\n",
    "models = {}\n",
    "\n",
    "# load human GEM into the dictionary\n",
    "models[\"ihuman\"] = cobra.io.load_matlab_model(\"./models/Human-GEM.mat\")"
   ]
  },
  {
   "cell_type": "code",
   "execution_count": null,
   "metadata": {},
   "outputs": [],
   "source": [
    "# load ftINIT models into the dictionary\n",
    "directory = os.fsencode(\"./models\")\n",
    "    \n",
    "for file in os.listdir(directory):\n",
    "    filename = os.fsdecode(file)\n",
    "    if filename.endswith(\"_model.mat\"): \n",
    "        pos = filename.find(\"_\")\n",
    "        models[filename[:pos]] = cobra.io.load_matlab_model(\"./models/\"+filename)\n",
    "    else:\n",
    "        continue\n",
    "\n",
    "print(models)"
   ]
  },
  {
   "cell_type": "code",
   "execution_count": null,
   "metadata": {},
   "outputs": [],
   "source": [
    "# Storing pathways in variable\n",
    "\n",
    "pathways = []\n",
    "for pathway in models[\"ihuman\"].groups:\n",
    "    pathways.append(pathway.name)\n",
    "print(pathways)\n",
    "print(len(pathways))\n",
    "\n",
    "# correct pathway 1 for labelling figures\n",
    "pathways_corr = pathways\n",
    "pathways_corr[0] = pathways[0][1:]\n",
    "pathways_corr[147] = \"Octane oxidation\"\n",
    "print(pathways_corr)"
   ]
  },
  {
   "cell_type": "code",
   "execution_count": null,
   "metadata": {},
   "outputs": [],
   "source": [
    "# analyzing differences in existing pathways between models\n",
    "\n",
    "model_pathways = {}\n",
    "for model in models:\n",
    "    pathwaylist = []\n",
    "    for pathway in models[model].groups:\n",
    "        pathwaylist.append(pathway.name)\n",
    "    model_pathways[model] = pathwaylist\n",
    "    missing_pathways = set(pathways)-set(model_pathways[model])\n",
    "    print(f\"{model}: {len(models[model].groups)} (missing: {missing_pathways})\")\n",
    "print()\n",
    "print(model_pathways)"
   ]
  },
  {
   "cell_type": "code",
   "execution_count": null,
   "metadata": {},
   "outputs": [],
   "source": [
    "# Creating an overview of existing pathways\n",
    "\n",
    "import pandas as pd\n",
    "\n",
    "# Creating a dictionary for boolean description of pathway existence\n",
    "pathway_exist = {}\n",
    "for model in models.keys():\n",
    "    pathway_exist[model] = []\n",
    "\n",
    "for pathway in pathways:\n",
    "    for model in models.keys():\n",
    "        if pathway in model_pathways[model]:\n",
    "            pathway_exist[model].append(0)\n",
    "        else: \n",
    "            pathway_exist[model].append(1)\n",
    "\n",
    "indices = model_pathways[\"ihuman\"]\n",
    "print(indices)\n",
    "pathway_exist_df = pd.DataFrame(pathway_exist, index=model_pathways[\"ihuman\"])\n",
    "print(pathway_exist_df)\n",
    "pathway_exist_df.to_csv(\"./outputs/ftINIT_models_existing_pathways.tsv\", sep=\"\\t\")"
   ]
  },
  {
   "cell_type": "code",
   "execution_count": null,
   "metadata": {},
   "outputs": [],
   "source": [
    "# Defining a function to draw heatmaps\n",
    "\n",
    "def heatmap(data, x_label, y_label, factor_label: str, x_fontsize: int=10, y_fontsize: int=8, fontfamily=\"Bahnschrift\", colortype: str='plasma', shrinkfct: float=0.1, figuresize: tuple=(22, 22), symmetric_scale: bool=False, abs_max=None, save_as: str=None):\n",
    "    \"\"\"\n",
    "    colortype: Colorscale of the colormap\n",
    "        Perceptually Uniform Sequential:\n",
    "        - viridis (default)\n",
    "        - plasma\n",
    "        - inferno\n",
    "        - magma\n",
    "        - cividis (colorblind-friendly)\n",
    "        Non-Uniform Sequential:\n",
    "        - Greys\n",
    "        - Purples\n",
    "        - Blues\n",
    "        - Oranges\n",
    "        - Reds\n",
    "        - Greens\n",
    "        Diverging:\n",
    "        - coolwarm\n",
    "        - seismic\n",
    "        - Spectral\n",
    "        - PiYG (Pink-Green)\n",
    "        - PRGn (Purple-Green)\n",
    "        - RdBu (Red-Blue)\n",
    "        - RdGy (Red-Grey)\n",
    "        - BrBG (Brown-BlueGreen)\n",
    "        Qualitative:\n",
    "        - tab10 (default for discrete categories)\n",
    "        - Set1, Set2, Set3\n",
    "        - Accent\n",
    "        - Dark2\n",
    "        - Paired\n",
    "        - Pastel1, Pastel2\n",
    "        Cyclic:\n",
    "        - twilight\n",
    "        - twilight_shifted\n",
    "        - hsv\n",
    "        Miscellaneous Colormaps\n",
    "        - jet (legacy, not recommended for scientific work due to perceptual issues)\n",
    "        - rainbow (colorful but not perceptually uniform)\n",
    "        - flag\n",
    "        - gist_rainbow\n",
    "        A _r following a colortype inverts the colors\n",
    "    \"\"\"\n",
    "\n",
    "    # Determine the normalization for the colormap\n",
    "    if symmetric_scale:\n",
    "        if abs_max is None:\n",
    "            abs_max = max(abs(data.min()), abs(data.max()))  # Use the maximum absolute value in the data\n",
    "        norm = Normalize(vmin=-abs_max, vmax=abs_max)  # Symmetric normalization\n",
    "    else:\n",
    "        norm = None  # Default normalization\n",
    "\n",
    "    # Plot the heatmap\n",
    "    plt.figure(figsize=figuresize)  # Adjust figure size for square heat fields\n",
    "    ax = plt.gca()  # Get the current axis\n",
    "    heatmap = ax.imshow(data, cmap=colortype, aspect='equal', interpolation='nearest', norm=norm)  # aspect='equal' ensures square fields\n",
    "\n",
    "    # Add color bar with adjusted thickness\n",
    "    cbar = plt.colorbar(heatmap, shrink=shrinkfct)  # Shrink reduces the size of the color bar\n",
    "    cbar.set_label(factor_label, rotation=270, labelpad=20)\n",
    "\n",
    "    # Set axis labels\n",
    "    ax.set_xticks(np.arange(len(x_label)))\n",
    "    ax.set_xticklabels(x_label, rotation=90, fontsize=x_fontsize, fontfamily=fontfamily)  # Smaller font size for x labels\n",
    "    ax.xaxis.tick_top()  # Move x-axis labels to the top\n",
    "\n",
    "    # Show all y-axis labels with smaller font size\n",
    "    ax.set_yticks(np.arange(len(y_label)))\n",
    "    ax.set_yticklabels(y_label, fontsize=y_fontsize, fontfamily=fontfamily)  # Reduced font size for y labels\n",
    "\n",
    "    # Remove the title\n",
    "    plt.tight_layout()\n",
    "\n",
    "    # Save he plot\n",
    "    if save_as != None:\n",
    "        plt.savefig(save_as, dpi=300, transparent=True, bbox_inches='tight')\n",
    "\n",
    "    # Show the plot\n",
    "    plt.show()"
   ]
  },
  {
   "cell_type": "code",
   "execution_count": null,
   "metadata": {},
   "outputs": [],
   "source": [
    "# plotting pathway existence as a heatmap\n",
    "heatmap(pathway_exist_df.to_numpy(), models.keys(), pathways_corr, \"exist\", colortype=\"seismic\", symmetric_scale=True, save_as=\"./outputs/ftINIT_models_pathway_exist.png\")"
   ]
  },
  {
   "cell_type": "markdown",
   "metadata": {},
   "source": [
    "# Comparing the fluxes of different Pathways"
   ]
  },
  {
   "cell_type": "code",
   "execution_count": null,
   "metadata": {},
   "outputs": [],
   "source": [
    "# performing FBA on all models\n",
    "FBA_solutions = {}\n",
    "for model in models:\n",
    "    FBA_solutions[model] = models[model].optimize()"
   ]
  },
  {
   "cell_type": "code",
   "execution_count": null,
   "metadata": {},
   "outputs": [],
   "source": [
    "# creating an empty dictionary of lists for the flux values\n",
    "pathway_fluxes = {}\n",
    "for model in models.keys():\n",
    "    pathway_fluxes[model] = []\n",
    "\n",
    "\n",
    "# filling in the flux values for all reactions\n",
    "for model in models:\n",
    "    for pathway in models[\"ihuman\"].groups:\n",
    "        pathway_flux = 0\n",
    "        for rxn in pathway.members:\n",
    "            if rxn in models[model].reactions:\n",
    "                pathway_flux += FBA_solutions[model].fluxes[rxn.id]\n",
    "        pathway_fluxes[model].append(pathway_flux)\n",
    "\n",
    "# creating a pandas dataframe out of the dictionary\n",
    "pathway_fluxes_df = pd.DataFrame(pathway_fluxes, index=pathways_corr)\n",
    "pathway_fluxes_df.to_csv(\"./outputs/ftINIT_models_pathway_fluxes.tsv\", sep=\"\\t\")\n",
    "pathway_fluxes_df"
   ]
  },
  {
   "cell_type": "code",
   "execution_count": null,
   "metadata": {},
   "outputs": [],
   "source": [
    "# visualizing the fluxes as a heatmap\n",
    "heatmap(pathway_fluxes_df.to_numpy(), models.keys(), pathways_corr, 'sum of fluxes through the pathway', symmetric_scale=True, colortype=\"seismic\", save_as=\"./outputs/ftINIT_models_pathway_abs_flux.png\")"
   ]
  },
  {
   "cell_type": "code",
   "execution_count": null,
   "metadata": {},
   "outputs": [],
   "source": [
    "# differences in smaller values are hard to see in the heatmap above\n",
    "\n",
    "# transforming the data so that values over 10 and the absolutes of the ones lower than -10 are logarithmized, \n",
    "# while the values between -10 and 10 remain linear normalized to the range between 1- and 1\n",
    "pathway_fluxes_poslog = np.where(pathway_fluxes_df.to_numpy() > 10, np.log10(abs(pathway_fluxes_df.to_numpy())), pathway_fluxes_df.to_numpy())\n",
    "pathway_fluxes_neglog = np.where(pathway_fluxes_df.to_numpy() < -10, ((-1)*(np.log10(abs(pathway_fluxes_df.to_numpy())))), pathway_fluxes_poslog)\n",
    "pathway_fluxes_symlog = np.where((pathway_fluxes_df.to_numpy() >= -10) & (pathway_fluxes_df.to_numpy() <= 10), (pathway_fluxes_df.to_numpy()/10), pathway_fluxes_neglog)\n",
    "\n",
    "# visualizing transformed data as a heatmap\n",
    "heatmap(pathway_fluxes_symlog, models.keys(), pathways_corr, 'symlog of the sum of fluxes through the pathway', symmetric_scale=True, colortype=\"seismic\", save_as=\"./outputs/ftINIT_models_pathway_log_flux.png\")"
   ]
  },
  {
   "cell_type": "code",
   "execution_count": null,
   "metadata": {},
   "outputs": [],
   "source": [
    "# making a heatmap of flux changes to the human model\n",
    "pathway_fluxes_np = pathway_fluxes_df.to_numpy()\n",
    "pathway_flux_dif = (pathway_fluxes_np - pathway_fluxes_np[:,[0]])\n",
    "\n",
    "heatmap(pathway_flux_dif, models.keys(), pathways_corr, 'difference of the sum of fluxes through the pathway to the ihuman model', symmetric_scale=True, colortype=\"seismic\", save_as=\"./outputs/ftINIT_models_pathway_differences.png\")"
   ]
  },
  {
   "cell_type": "markdown",
   "metadata": {},
   "source": [
    "# Calculating individual fluxes"
   ]
  },
  {
   "cell_type": "code",
   "execution_count": null,
   "metadata": {},
   "outputs": [],
   "source": [
    "# creating an empty dictionary of lists for the flux values\n",
    "reaction_fluxes = {}\n",
    "for model in models.keys():\n",
    "    reaction_fluxes[model] = []\n",
    "\n",
    "rxns = models[\"ihuman\"].reactions\n",
    "rxn_ids = {}\n",
    "for rxn in rxns:\n",
    "    rxn_ids[rxn.id] = rxn\n",
    "\n",
    "# filling in the flux values for all reactions\n",
    "for id in rxn_ids:\n",
    "    for model in models:\n",
    "        if rxn_ids[id] in models[model].reactions:\n",
    "            reaction_fluxes[model].append(FBA_solutions[model].fluxes[id])\n",
    "        else:\n",
    "            reaction_fluxes[model].append(0)\n",
    "\n",
    "\n",
    "# creating a pandas dataframe out of the dictionary\n",
    "reaction_fluxes_df = pd.DataFrame(reaction_fluxes, index=rxn_ids.keys())\n",
    "reaction_fluxes_df.to_csv(\"./outputs/ftINIT_models_reaction_fluxes.tsv\", sep=\"\\t\")\n",
    "reaction_fluxes_df"
   ]
  },
  {
   "cell_type": "markdown",
   "metadata": {},
   "source": [
    "# Clustering"
   ]
  },
  {
   "cell_type": "code",
   "execution_count": null,
   "metadata": {},
   "outputs": [],
   "source": [
    "# Transpose the data so models are rows\n",
    "flux_data_T = reaction_fluxes_df.T"
   ]
  },
  {
   "cell_type": "code",
   "execution_count": null,
   "metadata": {},
   "outputs": [],
   "source": [
    "# Perform clustering on models\n",
    "from sklearn.cluster import KMeans\n",
    "\n",
    "n_clusters = 5  # Random number of clusters \n",
    "kmeans = KMeans(n_clusters=n_clusters, random_state=42)\n",
    "model_clusters = kmeans.fit_predict(flux_data_T)"
   ]
  },
  {
   "cell_type": "code",
   "execution_count": null,
   "metadata": {},
   "outputs": [],
   "source": [
    "# visualizing the clusters\n",
    "from sklearn.decomposition import PCA\n",
    "\n",
    "# Perform PCA for dimensionality reduction\n",
    "pca = PCA(n_components=2)\n",
    "models_pca = pca.fit_transform(flux_data_T)\n",
    "\n",
    "# Scatter plot with cluster labels\n",
    "plt.figure(figsize=(10, 8))\n",
    "\n",
    "# Plot each model as a point\n",
    "for i, label in enumerate(flux_data_T.index):  # Use the transposed data's index (model names)\n",
    "    plt.scatter(models_pca[i, 0], models_pca[i, 1], c=f'C{model_clusters[i]}', s=50, label=f'Cluster {model_clusters[i]}' if i == 0 else None)\n",
    "    plt.text(models_pca[i, 0] + 0.02, models_pca[i, 1] + 0.02, label, fontsize=8, alpha=0.7)\n",
    "\n",
    "# Plot decorations\n",
    "plt.title('Model Clustering Visualization', fontsize=14)\n",
    "plt.xlabel('PCA Component 1', fontsize=12)\n",
    "plt.ylabel('PCA Component 2', fontsize=12)\n",
    "plt.grid(alpha=0.3)\n",
    "plt.show()\n"
   ]
  },
  {
   "cell_type": "code",
   "execution_count": null,
   "metadata": {},
   "outputs": [],
   "source": [
    "# Get loadings (components)\n",
    "loadings = pd.DataFrame(pca.components_.T, index=reaction_fluxes_df.index, columns=[f'PC{i+1}' for i in range(pca.n_components_)])\n",
    "\n",
    "print(f\"PC1 explains {pca.explained_variance_ratio_[0]} of the variance.\")\n",
    "print(f\"Reaction {loadings[\"PC1\"].idxmax()} has the biggest impact on the component ({loadings[\"PC1\"].max()})\")\n",
    "print(models[\"ihuman\"].reactions.get_by_id(loadings[\"PC1\"].idxmax()).name)\n",
    "print()\n",
    "print(f\"PC2 explains {pca.explained_variance_ratio_[1]} of the variance.\")\n",
    "print(f\"Reaction {loadings[\"PC2\"].idxmax()} has the biggest impact on the component ({loadings[\"PC2\"].max()})\")\n",
    "print(models[\"ihuman\"].reactions.get_by_id(loadings[\"PC2\"].idxmax()).reaction)\n"
   ]
  },
  {
   "cell_type": "code",
   "execution_count": null,
   "metadata": {},
   "outputs": [],
   "source": [
    "# evaluating clustering\n",
    "from sklearn.metrics import silhouette_score\n",
    "\n",
    "silhouette_avg = silhouette_score(flux_data_T, model_clusters)\n",
    "print(f'Silhouette Score: {silhouette_avg}')\n"
   ]
  },
  {
   "cell_type": "code",
   "execution_count": 2,
   "metadata": {},
   "outputs": [],
   "source": [
    "A375_model = cobra.io.load_matlab_model(\"./models/A375_ftINIT_model.mat\")"
   ]
  },
  {
   "cell_type": "code",
   "execution_count": 3,
   "metadata": {},
   "outputs": [
    {
     "data": {
      "text/html": [
       "\n",
       "        <table>\n",
       "            <tr>\n",
       "                <td><strong>Name</strong></td>\n",
       "                <td>model</td>\n",
       "            </tr><tr>\n",
       "                <td><strong>Memory address</strong></td>\n",
       "                <td>25d2c04f440</td>\n",
       "            </tr><tr>\n",
       "                <td><strong>Number of metabolites</strong></td>\n",
       "                <td>5721</td>\n",
       "            </tr><tr>\n",
       "                <td><strong>Number of reactions</strong></td>\n",
       "                <td>8577</td>\n",
       "            </tr><tr>\n",
       "                <td><strong>Number of genes</strong></td>\n",
       "                <td>2413</td>\n",
       "            </tr><tr>\n",
       "                <td><strong>Number of groups</strong></td>\n",
       "                <td>137</td>\n",
       "            </tr><tr>\n",
       "                <td><strong>Objective expression</strong></td>\n",
       "                <td>1.0*MAR13082 - 1.0*MAR13082_reverse_11d67</td>\n",
       "            </tr><tr>\n",
       "                <td><strong>Compartments</strong></td>\n",
       "                <td>Extracellular, Cytosol, Lysosome, Endoplasmic reticulum, Mitochondria, Peroxisome, Golgi apparatus, Nucleus, Inner mitochondria</td>\n",
       "            </tr>\n",
       "          </table>"
      ],
      "text/plain": [
       "<Model model at 0x25d2c04f440>"
      ]
     },
     "execution_count": 3,
     "metadata": {},
     "output_type": "execute_result"
    }
   ],
   "source": [
    "A375_model"
   ]
  },
  {
   "cell_type": "code",
   "execution_count": 4,
   "metadata": {},
   "outputs": [],
   "source": [
    "ihuman = cobra.io.load_matlab_model(\"./models/Human-GEM.mat\")"
   ]
  },
  {
   "cell_type": "code",
   "execution_count": 5,
   "metadata": {},
   "outputs": [
    {
     "data": {
      "text/html": [
       "\n",
       "        <table>\n",
       "            <tr>\n",
       "                <td><strong>Name</strong></td>\n",
       "                <td>ihuman</td>\n",
       "            </tr><tr>\n",
       "                <td><strong>Memory address</strong></td>\n",
       "                <td>25d336af380</td>\n",
       "            </tr><tr>\n",
       "                <td><strong>Number of metabolites</strong></td>\n",
       "                <td>8455</td>\n",
       "            </tr><tr>\n",
       "                <td><strong>Number of reactions</strong></td>\n",
       "                <td>12971</td>\n",
       "            </tr><tr>\n",
       "                <td><strong>Number of genes</strong></td>\n",
       "                <td>2887</td>\n",
       "            </tr><tr>\n",
       "                <td><strong>Number of groups</strong></td>\n",
       "                <td>148</td>\n",
       "            </tr><tr>\n",
       "                <td><strong>Objective expression</strong></td>\n",
       "                <td>1.0*MAR13082 - 1.0*MAR13082_reverse_11d67</td>\n",
       "            </tr><tr>\n",
       "                <td><strong>Compartments</strong></td>\n",
       "                <td>Cytosol, Extracellular, Lysosome, Endoplasmic reticulum, Mitochondria, Peroxisome, Golgi apparatus, Nucleus, Inner mitochondria</td>\n",
       "            </tr>\n",
       "          </table>"
      ],
      "text/plain": [
       "<Model ihuman at 0x25d336af380>"
      ]
     },
     "execution_count": 5,
     "metadata": {},
     "output_type": "execute_result"
    }
   ],
   "source": [
    "ihuman"
   ]
  }
 ],
 "metadata": {
  "kernelspec": {
   "display_name": "context_GEM",
   "language": "python",
   "name": "python3"
  },
  "language_info": {
   "codemirror_mode": {
    "name": "ipython",
    "version": 3
   },
   "file_extension": ".py",
   "mimetype": "text/x-python",
   "name": "python",
   "nbconvert_exporter": "python",
   "pygments_lexer": "ipython3",
   "version": "3.12.3"
  }
 },
 "nbformat": 4,
 "nbformat_minor": 2
}
